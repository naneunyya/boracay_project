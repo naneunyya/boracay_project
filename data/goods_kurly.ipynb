{
 "cells": [
  {
   "cell_type": "markdown",
   "id": "638fa178",
   "metadata": {},
   "source": [
    "### json file 관련 함수 \n",
    "\n",
    "- save_json : 데이터를 json으로 저장\n",
    "- load_json : json 파일 불러오기\n",
    "- 기본 경로 현재 폴더인 'data'로 지정 해둠."
   ]
  },
  {
   "cell_type": "code",
   "execution_count": 1,
   "id": "81eb7cdd",
   "metadata": {},
   "outputs": [],
   "source": [
    "import os\n",
    "import json\n",
    "\n",
    "def save_json(data, filename):\n",
    "    with open(filename, 'w', encoding='utf-8') as f:\n",
    "        json.dump(data, f, indent=4, ensure_ascii=False)\n",
    "\n",
    "def load_json(filename):\n",
    "    if not os.path.exists(filename):\n",
    "        return None\n",
    "    with open(filename, 'r', encoding='utf-8') as f:\n",
    "        return json.load(f)"
   ]
  },
  {
   "cell_type": "markdown",
   "id": "a1e32ff9",
   "metadata": {},
   "source": []
  },
  {
   "cell_type": "code",
   "execution_count": null,
   "id": "3efc28ec",
   "metadata": {},
   "outputs": [],
   "source": []
  }
 ],
 "metadata": {
  "kernelspec": {
   "display_name": "boracay",
   "language": "python",
   "name": "python3"
  },
  "language_info": {
   "codemirror_mode": {
    "name": "ipython",
    "version": 3
   },
   "file_extension": ".py",
   "mimetype": "text/x-python",
   "name": "python",
   "nbconvert_exporter": "python",
   "pygments_lexer": "ipython3",
   "version": "3.11.5"
  }
 },
 "nbformat": 4,
 "nbformat_minor": 5
}
